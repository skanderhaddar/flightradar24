{
 "cells": [
  {
   "cell_type": "code",
   "execution_count": 13,
   "id": "139ad5a0",
   "metadata": {},
   "outputs": [],
   "source": [
    "from selenium import webdriver\n",
    "from selenium.webdriver.common.by import By\n",
    "from selenium.webdriver.support.ui import WebDriverWait\n",
    "from selenium.webdriver.support import expected_conditions as EC\n",
    "from selenium.common.exceptions import NoSuchElementException, ElementNotInteractableException, ElementClickInterceptedException,TimeoutException , ElementNotVisibleException\n",
    "from selenium.webdriver.chrome.options import Options\n",
    "from bs4 import BeautifulSoup\n",
    "import time\n",
    "from hdfs import InsecureClient\n",
    "\n",
    "\n",
    "import pandas as pd\n",
    "from datetime import datetime\n"
   ]
  },
  {
   "cell_type": "code",
   "execution_count": 14,
   "id": "16600e1b",
   "metadata": {},
   "outputs": [
    {
     "name": "stdout",
     "output_type": "stream",
     "text": [
      "a\n"
     ]
    }
   ],
   "source": [
    "print(\"a\")"
   ]
  },
  {
   "cell_type": "markdown",
   "id": "54cc2d39",
   "metadata": {},
   "source": [
    "**list_country**"
   ]
  },
  {
   "cell_type": "code",
   "execution_count": 15,
   "id": "e8c63f49",
   "metadata": {},
   "outputs": [],
   "source": [
    "def get_country():\n",
    "    chrome_options = Options()\n",
    "    chrome_options.add_argument(\"--headless\")\n",
    "    driver = webdriver.Chrome(options = chrome_options)\n",
    "    try:\n",
    "        url = \"https://www.flightradar24.com/data/airports\"\n",
    "        driver.get(url)\n",
    "        # Find all links to countries\n",
    "        country_links = driver.find_elements(By.CSS_SELECTOR, 'table#tbl-datatable a[href^=\"https://www.flightradar24.com/data/airports/\"]')\n",
    "        country = []\n",
    "        # Extract and print the country names\n",
    "        for country_link in country_links:\n",
    "            country_name = country_link.get_attribute(\"title\")\n",
    "            country.append(country_name.replace(\" \", \"-\").replace(\"(\", \"\").replace(\")\", \"\"))\n",
    "        country_set = set(country)\n",
    "    finally:\n",
    "        driver.quit()\n",
    "        return (country_set)"
   ]
  },
  {
   "cell_type": "code",
   "execution_count": 16,
   "id": "a32d8c8d",
   "metadata": {},
   "outputs": [],
   "source": [
    "\n",
    "def scrape_airport_data(country_url):\n",
    "    chrome_options = Options()\n",
    "    chrome_options.add_argument(\"--headless\")\n",
    "    driver = webdriver.Chrome(options = chrome_options)\n",
    "\n",
    "    try:\n",
    "        driver.get(country_url)\n",
    "\n",
    "        # Find all airport links\n",
    "        IATA = []\n",
    "        airport_names = []\n",
    "        #k = 0\n",
    "        airport_links = driver.find_elements(By.CSS_SELECTOR, 'a[data-iata][data-lat][data-lon]')\n",
    "        for airport_link in airport_links:\n",
    "            airport_name = airport_link.text.strip().split('\\n')[0]\n",
    "            airport_iata = airport_link.get_attribute('data-iata')\n",
    "            airport_icao = airport_name.split('(')[-1].split(')')[0]\n",
    "            IATA.append(airport_iata)\n",
    "            airport_names.append(airport_name)\n",
    "        airport_names_cleaned = [airport.split(' (')[0] for airport in airport_names]\n",
    " \n",
    "    finally:\n",
    "        driver.quit()\n",
    "    return IATA , airport_names_cleaned\n"
   ]
  },
  {
   "cell_type": "code",
   "execution_count": 17,
   "id": "1ab58a3c",
   "metadata": {},
   "outputs": [],
   "source": [
    "\n",
    "def scrape_all_countries_airports(main_url):\n",
    "    chrome_options = Options()\n",
    "    chrome_options.add_argument(\"--headless\")\n",
    "    driver = webdriver.Chrome(options = chrome_options)\n",
    "\n",
    "    try:\n",
    "        driver.get(main_url)\n",
    "\n",
    "        # Find all links to countries\n",
    "        country_links = driver.find_elements(By.CSS_SELECTOR, 'table#tbl-datatable a[href^=\"https://www.flightradar24.com/data/airports/\"]')\n",
    "        #p = 0\n",
    "        AEROPORT_IATA = {}\n",
    "        for country_link in set(country_links):\n",
    "            country_url = country_link.get_attribute(\"href\")\n",
    "            #print(country_url)\n",
    "            for elem in scrape_airport_data(country_url)[0] : \n",
    "                AEROPORT_IATA[elem] = country_url[44:]\n",
    "\n",
    "            #p = p+1\n",
    "           # if p>10 :\n",
    "               # break \n",
    "    finally:\n",
    "        driver.quit()\n",
    "    return AEROPORT_IATA\n"
   ]
  },
  {
   "cell_type": "code",
   "execution_count": 18,
   "id": "b468f46a",
   "metadata": {},
   "outputs": [],
   "source": [
    "def click_button( driver , button_text):\n",
    "            k = 0\n",
    "            while (True and k <10):\n",
    "                try:\n",
    "                    k = k+1\n",
    "                    # Wait for the button to be present and visible\n",
    "                    button = WebDriverWait(driver, 10).until(EC.presence_of_element_located((By.XPATH, f'//button[text()=\"{button_text}\"]')))\n",
    "                    # Click the button\n",
    "                    button.click()\n",
    "                    time.sleep(3)\n",
    "                except ElementClickInterceptedException:\n",
    "                        # If click is intercepted, wait for the iframe to disappear\n",
    "                        WebDriverWait(driver, 10).until(EC.invisibility_of_element_located((By.ID, 'google_ads_iframe_/59302966/fr24_data_anchor_0')))\n",
    "                except (ElementClickInterceptedException, ElementNotInteractableException, TimeoutException) as e:\n",
    "                    break\n",
    "                except (ElementNotVisibleException, TimeoutException):\n",
    "                    # Break the loop if the button is not visible or timeout occurs\n",
    "                    break \n"
   ]
  },
  {
   "cell_type": "code",
   "execution_count": 19,
   "id": "14e9574c",
   "metadata": {},
   "outputs": [],
   "source": [
    "def scrape_flight_data (airport_code) :\n",
    "    options = Options()\n",
    "    \"\"\"options.add_argument(\"start-maximized\")\n",
    "    options.add_argument(\"disable-infobars\")\n",
    "    options.add_argument(\"--disable-extensions\")\n",
    "    options.add_argument('--no-sandbox')\n",
    "    options.add_argument('--disable-application-cache')\n",
    "    options.add_argument('--disable-gpu')\n",
    "    options.add_argument(\"--disable-dev-shm-usage\")\"\"\"\n",
    "    options.add_argument(\"--headless\")\n",
    "    driver = webdriver.Chrome(options = options)\n",
    "    airport_url = \"https://www.flightradar24.com/data/airports/\"+airport_code+\"/departures\"\n",
    "    driver.maximize_window()\n",
    "    driver.implicitly_wait(10)  # Attend jusqu'à 10 secondes avant de lancer une exception\n",
    "\n",
    "    try:\n",
    "        driver.get(airport_url)\n",
    "\n",
    "        # Wait for the button to appear and accept cookies\n",
    "        time.sleep(12)\n",
    "        try:\n",
    "            button1 = driver.find_element(By.ID, 'onetrust-accept-btn-handler')\n",
    "            button1.click()\n",
    "        except NoSuchElementException:\n",
    "            pass  # If the accept cookies button is not found, continue without clicking\n",
    "    \n",
    "        \"\"\"def click_button(ButtonName):\n",
    "            k = 0\n",
    "            while k < 10:\n",
    "                try:\n",
    "                    # Attente explicite pour l'élément\n",
    "                    button = WebDriverWait(driver, 10).until(EC.presence_of_element_located((By.ID, 'btn-load-reviews')))\n",
    "                    button.click()\n",
    "                    k += 1\n",
    "                except (ElementClickInterceptedException, ElementNotInteractableException):\n",
    "                    break\n",
    "                except TimeoutException:\n",
    "                    # Si le bouton n'est pas trouvé dans le délai, sortir de la boucle\n",
    "                    break\"\"\"            \n",
    "\n",
    "\n",
    "\n",
    "        element = driver.find_elements(By.XPATH,'//*[@id=\"cnt-data-content\"]/div/div[2]/div/aside/div[1]/table/tbody/tr[2]')\n",
    "        for e in element:\n",
    "            soup = e.get_attribute('outerHTML')\n",
    "            sp = BeautifulSoup(soup, 'html.parser')\n",
    "            tr_element = sp.find('tr')\n",
    "            # Get the value of the class attribute\n",
    "            class_value = tr_element.get('class')\n",
    "            if (len(class_value) >0):\n",
    "            # Wait for the \"Load later flights\" button to be clickable\n",
    "                click_button(driver, \"Load earlier flights\") \n",
    "                #time.sleep(2)\n",
    "                click_button(driver, \"Load later flights\") \n",
    "                #time.sleep(2)\n",
    "                page_source = driver.page_source\n",
    "                driver.quit()\n",
    "                # Find all flight information rows\n",
    "                soup2 = BeautifulSoup(page_source, 'html.parser')\n",
    "                flight_rows = soup2.find_all('tr', class_='hidden-xs hidden-sm ng-scope')\n",
    "                #flight_rows = soup2.find_elements(By.XPATH, '//tr[@class=\"hidden-xs hidden-sm ng-scope\"]')\n",
    "                flight_data = []\n",
    "                for row in flight_rows:\n",
    "                    data_date = row.get('data-date', 'N/A')\n",
    "                    # Extract flight time\n",
    "                    flight_time_tag = row.find('td', class_='ng-binding')\n",
    "                    flight_time = flight_time_tag.text.strip() if flight_time_tag else 'N/A'\n",
    "\n",
    "                    # Extract origin airport\n",
    "                    origin_airport_tag = row.find('a', class_='fs-10 fbold notranslate ng-binding')\n",
    "                   \n",
    "                    arrival_airport = origin_airport_tag['title'] if origin_airport_tag else 'N/A'\n",
    "\n",
    "                    # Extract flight number\n",
    "                    flight_number_tag = row.find('a', class_='notranslate ng-binding')\n",
    "                    flight_number = flight_number_tag.text.strip() if flight_number_tag else 'N/A'\n",
    "\n",
    "                    # Extract aircraft model\n",
    "                    aircraft_model_tag = row.find('span', class_='notranslate ng-binding')\n",
    "                    aircraft_model = aircraft_model_tag.text.strip() if aircraft_model_tag else 'N/A'\n",
    "\n",
    "                    # Extract flight status\n",
    "                    flight_status_tag = row.find('span', class_='ng-binding', attrs={'ng-bind-html': 'objFlight.flight.statusMessage.text | unsafe'})\n",
    "                    flight_status = flight_status_tag.text.strip() if flight_status_tag else 'N/A'\n",
    "\n",
    "                    # Extract arrival time\n",
    "                    arrival_time_td = row.find_all('td', class_='ng-binding')[1]\n",
    "                    time_arrival = arrival_time_td.text.strip().split()[-1] if arrival_time_td else 'Time not found.'\n",
    "                    # Extract aircraft\n",
    "                    aircraft_tag_list = row.find_all('a', class_='notranslate ng-binding')\n",
    "                    if len(aircraft_tag_list) >= 2:\n",
    "                        aircraft = aircraft_tag_list[1].text.strip()\n",
    "                    else:\n",
    "                        aircraft = 'N/A'\n",
    "                    # Append data to the list as a dictionary\n",
    "                    flight_data.append({\n",
    "        \"Date\": data_date,\n",
    "        \"Flight Time\": flight_time,\n",
    "        \"Airline\": aircraft,\n",
    "        \"Destination Aeroport\": arrival_airport,\n",
    "        \"flight\": flight_number,\n",
    "        \"Aircraft Model\": aircraft_model,\n",
    "        \"Flight Status\": flight_status,\n",
    "        \"time_arrival\":time_arrival})\n",
    "                df = pd.DataFrame(flight_data)\n",
    "                return (df)\n",
    "            else : \n",
    "                #print(\"we don't have any data for this ariport\" , airport_code)\n",
    "                return \"we don't have any data for this ariport\" \n",
    "\n",
    "\n",
    "    finally:\n",
    "            driver.quit()\n",
    "            "
   ]
  },
  {
   "cell_type": "code",
   "execution_count": 20,
   "id": "74249f56",
   "metadata": {},
   "outputs": [],
   "source": [
    "def scrape_flight_from_country (country_name):\n",
    "    url_country = \"https://www.flightradar24.com/data/airports/\" + country_name\n",
    "    IATA , aeroport_names = scrape_airport_data(url_country)\n",
    "    data_total_country = []\n",
    "    for i, j in  zip (IATA, aeroport_names) : \n",
    "        df_aeroport = scrape_flight_data(i) \n",
    "        if isinstance(df_aeroport, pd.DataFrame):\n",
    "            print(\"data founded in \",j , \" = \" , len(df_aeroport)  )\n",
    "            df_aeroport[\"Original Aeroport\"] =  j \n",
    "            data_total_country.append(df_aeroport)\n",
    "    if len(data_total_country) >0 :\n",
    "        concatenated_df = pd.concat(data_total_country, ignore_index=True)\n",
    "        if concatenated_df is not None : \n",
    "            return concatenated_df\n",
    "    else :\n",
    "        return \"No data\"\n"
   ]
  },
  {
   "cell_type": "code",
   "execution_count": 21,
   "id": "01c2991a",
   "metadata": {},
   "outputs": [],
   "source": [
    "import os\n",
    "import csv\n",
    "\n",
    "def save_csv(data, parent_folder, folder_name, file_name):\n",
    "    # Create the folder if it doesn't exist\n",
    "    folder_path = os.path.join(parent_folder, folder_name)\n",
    "    if not os.path.exists(folder_path):\n",
    "        os.makedirs(folder_path)\n",
    "\n",
    "    # Define the file path within the new folder\n",
    "    file_path = os.path.join(folder_path, file_name)\n",
    "    send_to_hdfs(data , file_path.replace(os.path.sep, '/'))\n"
   ]
  },
  {
   "cell_type": "code",
   "execution_count": 22,
   "id": "d7ead63a",
   "metadata": {},
   "outputs": [],
   "source": [
    "def send_to_hdfs(data, file_path): \n",
    "    client = InsecureClient('http://localhost:50070')\n",
    "    with client.write(file_path, overwrite=True) as writer:\n",
    "        data.to_csv(writer, index=False)\n"
   ]
  },
  {
   "cell_type": "code",
   "execution_count": 23,
   "id": "09c185f1",
   "metadata": {},
   "outputs": [],
   "source": [
    "from IPython.display import HTML\n",
    "def scrape_all_arrival_flight() :\n",
    "    countries = get_country()\n",
    "    #countries_done= [\"France\",\"Cocos-keeling-Islands\",\"Martinique\",\"Botswana\",\"Belgium\",\"Latvia\",\"Guam\",\"Chile\",\"Senegal\",\"Macao\",\"Cameroon\",\"Germany\",\"Saint-Vincent-And-The-Grenadines\",\"Eritrea\", \"Jersey\",\"Luxembourg\",\"Mali\",\"Egypt\",\"Estonia\",\"Yemen\", \"Colombia\",\"New-Zealand\" , \"Dominica\",\"Guinea-bissau\",\"Antigua-And-Barbuda\",\"Puerto-Rico\",\"Rwanda\" ,\"Faroe-Islands\",\"Kuwait\",\"Ivory-Coast\",\"Djibouti\",\"Guatemala\",\"Romania\",\"Canada\",\"New-Zealand\",\"Dominica\"]\n",
    "    for country in countries : \n",
    "     #   if country not in countries_done :\n",
    "            print(\"start of extract data from :\", country)\n",
    "            data = scrape_flight_from_country(country) \n",
    "            print(\"End of extract data from :\", country , \" -----------------------------\")\n",
    "            #countries_done.append(country)\n",
    "            # File path to save the CSV data\n",
    "\n",
    "            date = datetime.now().date()\n",
    "            # File path to save the CSV data\n",
    "            file_name = country + str(date) +\".csv\"\n",
    "            # Save the DataFrame to a CSV file\n",
    "            parent_folder = \"/user/PFE_data/departure_flights\"\n",
    "            #folder name \n",
    "            folder_name = country\n",
    "\n",
    "            if isinstance(data, pd.DataFrame) :\n",
    "                save_csv(data,parent_folder ,folder_name,file_name )\n",
    "                message = '<p style=\"color:green;\">data saved</p>'\n",
    "                display(HTML(message))\n"
   ]
  },
  {
   "cell_type": "code",
   "execution_count": 24,
   "id": "a29079e5",
   "metadata": {},
   "outputs": [
    {
     "name": "stdout",
     "output_type": "stream",
     "text": [
      "start of extract data from : Benin\n",
      "data founded in  Cotonou Cadjehoun Airport  =  30\n",
      "End of extract data from : Benin  -----------------------------\n"
     ]
    },
    {
     "data": {
      "text/html": [
       "<p style=\"color:green;\">data saved</p>"
      ],
      "text/plain": [
       "<IPython.core.display.HTML object>"
      ]
     },
     "metadata": {},
     "output_type": "display_data"
    },
    {
     "name": "stdout",
     "output_type": "stream",
     "text": [
      "start of extract data from : Belarus\n",
      "data founded in  Brest Airport  =  1\n",
      "data founded in  Gomel Airport  =  3\n",
      "data founded in  Minsk National Airport  =  81\n",
      "End of extract data from : Belarus  -----------------------------\n"
     ]
    },
    {
     "data": {
      "text/html": [
       "<p style=\"color:green;\">data saved</p>"
      ],
      "text/plain": [
       "<IPython.core.display.HTML object>"
      ]
     },
     "metadata": {},
     "output_type": "display_data"
    },
    {
     "name": "stdout",
     "output_type": "stream",
     "text": [
      "start of extract data from : Burkina-Faso\n",
      "End of extract data from : Burkina-Faso  -----------------------------\n",
      "start of extract data from : Nauru\n",
      "data founded in  Nauru International Airport  =  3\n",
      "End of extract data from : Nauru  -----------------------------\n"
     ]
    },
    {
     "data": {
      "text/html": [
       "<p style=\"color:green;\">data saved</p>"
      ],
      "text/plain": [
       "<IPython.core.display.HTML object>"
      ]
     },
     "metadata": {},
     "output_type": "display_data"
    },
    {
     "name": "stdout",
     "output_type": "stream",
     "text": [
      "start of extract data from : Singapore\n"
     ]
    }
   ],
   "source": [
    "scrape_all_arrival_flight()"
   ]
  },
  {
   "cell_type": "code",
   "execution_count": null,
   "id": "412c3fac",
   "metadata": {},
   "outputs": [],
   "source": [
    "print(\"a\")"
   ]
  },
  {
   "cell_type": "code",
   "execution_count": null,
   "id": "ddaea09c",
   "metadata": {},
   "outputs": [],
   "source": []
  }
 ],
 "metadata": {
  "kernelspec": {
   "display_name": "Python 3 (ipykernel)",
   "language": "python",
   "name": "python3"
  },
  "language_info": {
   "codemirror_mode": {
    "name": "ipython",
    "version": 3
   },
   "file_extension": ".py",
   "mimetype": "text/x-python",
   "name": "python",
   "nbconvert_exporter": "python",
   "pygments_lexer": "ipython3",
   "version": "3.9.9"
  }
 },
 "nbformat": 4,
 "nbformat_minor": 5
}
